{
 "cells": [
  {
   "cell_type": "code",
   "execution_count": 203,
   "id": "cb10f182",
   "metadata": {},
   "outputs": [],
   "source": [
    "import numpy as np\n",
    "import pandas as pd\n",
    "from sklearn.metrics import mean_squared_error\n",
    "from sklearn.linear_model import Ridge, LogisticRegression"
   ]
  },
  {
   "cell_type": "code",
   "execution_count": 204,
   "id": "14e49233",
   "metadata": {},
   "outputs": [
    {
     "data": {
      "text/html": [
       "<div>\n",
       "<style scoped>\n",
       "    .dataframe tbody tr th:only-of-type {\n",
       "        vertical-align: middle;\n",
       "    }\n",
       "\n",
       "    .dataframe tbody tr th {\n",
       "        vertical-align: top;\n",
       "    }\n",
       "\n",
       "    .dataframe thead th {\n",
       "        text-align: right;\n",
       "    }\n",
       "</style>\n",
       "<table border=\"1\" class=\"dataframe\">\n",
       "  <thead>\n",
       "    <tr style=\"text-align: right;\">\n",
       "      <th></th>\n",
       "      <th>No</th>\n",
       "      <th>X1 transaction date</th>\n",
       "      <th>X2 house age</th>\n",
       "      <th>X3 distance to the nearest MRT station</th>\n",
       "      <th>X4 number of convenience stores</th>\n",
       "      <th>X5 latitude</th>\n",
       "      <th>X6 longitude</th>\n",
       "      <th>Y house price of unit area</th>\n",
       "    </tr>\n",
       "  </thead>\n",
       "  <tbody>\n",
       "    <tr>\n",
       "      <th>0</th>\n",
       "      <td>1</td>\n",
       "      <td>2012.917</td>\n",
       "      <td>32.0</td>\n",
       "      <td>84.87882</td>\n",
       "      <td>10</td>\n",
       "      <td>24.98298</td>\n",
       "      <td>121.54024</td>\n",
       "      <td>37.9</td>\n",
       "    </tr>\n",
       "    <tr>\n",
       "      <th>1</th>\n",
       "      <td>2</td>\n",
       "      <td>2012.917</td>\n",
       "      <td>19.5</td>\n",
       "      <td>306.59470</td>\n",
       "      <td>9</td>\n",
       "      <td>24.98034</td>\n",
       "      <td>121.53951</td>\n",
       "      <td>42.2</td>\n",
       "    </tr>\n",
       "    <tr>\n",
       "      <th>2</th>\n",
       "      <td>3</td>\n",
       "      <td>2013.583</td>\n",
       "      <td>13.3</td>\n",
       "      <td>561.98450</td>\n",
       "      <td>5</td>\n",
       "      <td>24.98746</td>\n",
       "      <td>121.54391</td>\n",
       "      <td>47.3</td>\n",
       "    </tr>\n",
       "    <tr>\n",
       "      <th>3</th>\n",
       "      <td>4</td>\n",
       "      <td>2013.500</td>\n",
       "      <td>13.3</td>\n",
       "      <td>561.98450</td>\n",
       "      <td>5</td>\n",
       "      <td>24.98746</td>\n",
       "      <td>121.54391</td>\n",
       "      <td>54.8</td>\n",
       "    </tr>\n",
       "    <tr>\n",
       "      <th>4</th>\n",
       "      <td>5</td>\n",
       "      <td>2012.833</td>\n",
       "      <td>5.0</td>\n",
       "      <td>390.56840</td>\n",
       "      <td>5</td>\n",
       "      <td>24.97937</td>\n",
       "      <td>121.54245</td>\n",
       "      <td>43.1</td>\n",
       "    </tr>\n",
       "  </tbody>\n",
       "</table>\n",
       "</div>"
      ],
      "text/plain": [
       "   No  X1 transaction date  X2 house age  \\\n",
       "0   1             2012.917          32.0   \n",
       "1   2             2012.917          19.5   \n",
       "2   3             2013.583          13.3   \n",
       "3   4             2013.500          13.3   \n",
       "4   5             2012.833           5.0   \n",
       "\n",
       "   X3 distance to the nearest MRT station  X4 number of convenience stores  \\\n",
       "0                                84.87882                               10   \n",
       "1                               306.59470                                9   \n",
       "2                               561.98450                                5   \n",
       "3                               561.98450                                5   \n",
       "4                               390.56840                                5   \n",
       "\n",
       "   X5 latitude  X6 longitude  Y house price of unit area  \n",
       "0     24.98298     121.54024                        37.9  \n",
       "1     24.98034     121.53951                        42.2  \n",
       "2     24.98746     121.54391                        47.3  \n",
       "3     24.98746     121.54391                        54.8  \n",
       "4     24.97937     121.54245                        43.1  "
      ]
     },
     "execution_count": 204,
     "metadata": {},
     "output_type": "execute_result"
    }
   ],
   "source": [
    "csv = pd.read_csv('Real estate.csv')\n",
    "csv.head()"
   ]
  },
  {
   "cell_type": "code",
   "execution_count": 205,
   "id": "d6f5a356",
   "metadata": {},
   "outputs": [],
   "source": [
    "y = csv['Y house price of unit area'].to_numpy()\n",
    "x = csv.drop(['X1 transaction date', 'Y house price of unit area', 'No'], axis=1).to_numpy()"
   ]
  },
  {
   "cell_type": "code",
   "execution_count": 206,
   "id": "46aefced",
   "metadata": {},
   "outputs": [
    {
     "data": {
      "text/html": [
       "<style>#sk-container-id-12 {color: black;}#sk-container-id-12 pre{padding: 0;}#sk-container-id-12 div.sk-toggleable {background-color: white;}#sk-container-id-12 label.sk-toggleable__label {cursor: pointer;display: block;width: 100%;margin-bottom: 0;padding: 0.3em;box-sizing: border-box;text-align: center;}#sk-container-id-12 label.sk-toggleable__label-arrow:before {content: \"▸\";float: left;margin-right: 0.25em;color: #696969;}#sk-container-id-12 label.sk-toggleable__label-arrow:hover:before {color: black;}#sk-container-id-12 div.sk-estimator:hover label.sk-toggleable__label-arrow:before {color: black;}#sk-container-id-12 div.sk-toggleable__content {max-height: 0;max-width: 0;overflow: hidden;text-align: left;background-color: #f0f8ff;}#sk-container-id-12 div.sk-toggleable__content pre {margin: 0.2em;color: black;border-radius: 0.25em;background-color: #f0f8ff;}#sk-container-id-12 input.sk-toggleable__control:checked~div.sk-toggleable__content {max-height: 200px;max-width: 100%;overflow: auto;}#sk-container-id-12 input.sk-toggleable__control:checked~label.sk-toggleable__label-arrow:before {content: \"▾\";}#sk-container-id-12 div.sk-estimator input.sk-toggleable__control:checked~label.sk-toggleable__label {background-color: #d4ebff;}#sk-container-id-12 div.sk-label input.sk-toggleable__control:checked~label.sk-toggleable__label {background-color: #d4ebff;}#sk-container-id-12 input.sk-hidden--visually {border: 0;clip: rect(1px 1px 1px 1px);clip: rect(1px, 1px, 1px, 1px);height: 1px;margin: -1px;overflow: hidden;padding: 0;position: absolute;width: 1px;}#sk-container-id-12 div.sk-estimator {font-family: monospace;background-color: #f0f8ff;border: 1px dotted black;border-radius: 0.25em;box-sizing: border-box;margin-bottom: 0.5em;}#sk-container-id-12 div.sk-estimator:hover {background-color: #d4ebff;}#sk-container-id-12 div.sk-parallel-item::after {content: \"\";width: 100%;border-bottom: 1px solid gray;flex-grow: 1;}#sk-container-id-12 div.sk-label:hover label.sk-toggleable__label {background-color: #d4ebff;}#sk-container-id-12 div.sk-serial::before {content: \"\";position: absolute;border-left: 1px solid gray;box-sizing: border-box;top: 0;bottom: 0;left: 50%;z-index: 0;}#sk-container-id-12 div.sk-serial {display: flex;flex-direction: column;align-items: center;background-color: white;padding-right: 0.2em;padding-left: 0.2em;position: relative;}#sk-container-id-12 div.sk-item {position: relative;z-index: 1;}#sk-container-id-12 div.sk-parallel {display: flex;align-items: stretch;justify-content: center;background-color: white;position: relative;}#sk-container-id-12 div.sk-item::before, #sk-container-id-12 div.sk-parallel-item::before {content: \"\";position: absolute;border-left: 1px solid gray;box-sizing: border-box;top: 0;bottom: 0;left: 50%;z-index: -1;}#sk-container-id-12 div.sk-parallel-item {display: flex;flex-direction: column;z-index: 1;position: relative;background-color: white;}#sk-container-id-12 div.sk-parallel-item:first-child::after {align-self: flex-end;width: 50%;}#sk-container-id-12 div.sk-parallel-item:last-child::after {align-self: flex-start;width: 50%;}#sk-container-id-12 div.sk-parallel-item:only-child::after {width: 0;}#sk-container-id-12 div.sk-dashed-wrapped {border: 1px dashed gray;margin: 0 0.4em 0.5em 0.4em;box-sizing: border-box;padding-bottom: 0.4em;background-color: white;}#sk-container-id-12 div.sk-label label {font-family: monospace;font-weight: bold;display: inline-block;line-height: 1.2em;}#sk-container-id-12 div.sk-label-container {text-align: center;}#sk-container-id-12 div.sk-container {/* jupyter's `normalize.less` sets `[hidden] { display: none; }` but bootstrap.min.css set `[hidden] { display: none !important; }` so we also need the `!important` here to be able to override the default hidden behavior on the sphinx rendered scikit-learn.org. See: https://github.com/scikit-learn/scikit-learn/issues/21755 */display: inline-block !important;position: relative;}#sk-container-id-12 div.sk-text-repr-fallback {display: none;}</style><div id=\"sk-container-id-12\" class=\"sk-top-container\"><div class=\"sk-text-repr-fallback\"><pre>Ridge(alpha=0.0, fit_intercept=False)</pre><b>In a Jupyter environment, please rerun this cell to show the HTML representation or trust the notebook. <br />On GitHub, the HTML representation is unable to render, please try loading this page with nbviewer.org.</b></div><div class=\"sk-container\" hidden><div class=\"sk-item\"><div class=\"sk-estimator sk-toggleable\"><input class=\"sk-toggleable__control sk-hidden--visually\" id=\"sk-estimator-id-12\" type=\"checkbox\" checked><label for=\"sk-estimator-id-12\" class=\"sk-toggleable__label sk-toggleable__label-arrow\">Ridge</label><div class=\"sk-toggleable__content\"><pre>Ridge(alpha=0.0, fit_intercept=False)</pre></div></div></div></div></div>"
      ],
      "text/plain": [
       "Ridge(alpha=0.0, fit_intercept=False)"
      ]
     },
     "execution_count": 206,
     "metadata": {},
     "output_type": "execute_result"
    }
   ],
   "source": [
    "model = Ridge(alpha=0.0, fit_intercept=True)\n",
    "model_without = Ridge(alpha=0.0, fit_intercept=False)\n",
    "model.fit(x, y)\n",
    "model_without.fit(x, y)"
   ]
  },
  {
   "cell_type": "code",
   "execution_count": 207,
   "id": "bd229973",
   "metadata": {},
   "outputs": [
    {
     "name": "stdout",
     "output_type": "stream",
     "text": [
      "θ values =  [-2.68916833e-01 -4.25908898e-03  1.16302048e+00  2.37767191e+02\n",
      " -7.80545273e+00]\n"
     ]
    }
   ],
   "source": [
    "print(\"θ values = \", model.coef_)"
   ]
  },
  {
   "cell_type": "markdown",
   "id": "0ef501ea",
   "metadata": {},
   "source": [
    "What do we learn from the estimate ˆθ? Can you for example\n",
    "say which variable is more important in the pricing?\n",
    "\n",
    "The values for θ are printed above and we can see that the last 3 columns are the most important for pricing. This would include number of convenience stores, latitude, longitude with latitude being the most important parameter.  "
   ]
  },
  {
   "cell_type": "code",
   "execution_count": 208,
   "id": "9dcc2e7a",
   "metadata": {},
   "outputs": [
    {
     "name": "stdout",
     "output_type": "stream",
     "text": [
      "Model with intercept σ value =  79.20185189210909\n",
      "Model with zero intercept σ value =  79.32492614841333\n"
     ]
    }
   ],
   "source": [
    "print(\"Model with intercept σ value = \", mean_squared_error(model.predict((x)), y))\n",
    "print(\"Model with zero intercept σ value = \", mean_squared_error(model_without.predict((x)), y))"
   ]
  },
  {
   "cell_type": "markdown",
   "id": "9793e70d",
   "metadata": {},
   "source": [
    "Is the intercept μ important? What happens if we ignore it?\n",
    "\n",
    "When the intercept is ignored for x values of 0, y would be zero thus fitting a line through the origin. Thus we can see that μ is important if we want the line to fit the data more accurately as we're not forcing the fitted line to go through the origin. \n",
    "\n",
    "what does ˆσ mean? Is it better for it to be small or big?\n",
    "\n",
    "σ refers the average square loss between the prediction vs actual true value of y. It's better for σ to be smaller as we want to minimize losses. As we see from the above σ values the model with intercept performs better on the dataset than when intercept set 0. "
   ]
  },
  {
   "cell_type": "code",
   "execution_count": 209,
   "id": "8ab021a8",
   "metadata": {},
   "outputs": [
    {
     "name": "stdout",
     "output_type": "stream",
     "text": [
      "For model with λ as 10000.0 \n",
      "σ value =  91.09507555938664\n",
      "θ values =  [-1.98044932e-01 -6.88274450e-03  2.37091847e-01  1.08220301e-03\n",
      " -1.94787873e-04]\n"
     ]
    }
   ],
   "source": [
    "model = Ridge(alpha=10000.0, fit_intercept=True)\n",
    "model.fit(x, y)\n",
    "print(\"For model with λ as 10000.0 \")\n",
    "print(\"σ value = \", mean_squared_error(model.predict((x)), y))\n",
    "print(\"θ values = \", model.coef_)"
   ]
  },
  {
   "cell_type": "code",
   "execution_count": 210,
   "id": "d14fbe50",
   "metadata": {},
   "outputs": [
    {
     "name": "stdout",
     "output_type": "stream",
     "text": [
      "For model with λ as 100000000.0 \n",
      "σ value =  102.3367953997244\n",
      "θ values =  [-1.25146484e-04 -6.30377153e-03  3.61994423e-05  1.39964188e-07\n",
      "  4.46778539e-08]\n"
     ]
    }
   ],
   "source": [
    "model = Ridge(alpha=100000000.0, fit_intercept=True)\n",
    "model.fit(x, y)\n",
    "print(\"For model with λ as 100000000.0 \")\n",
    "print(\"σ value = \" , mean_squared_error(model.predict((x)), y))\n",
    "print(\"θ values = \", model.coef_)"
   ]
  },
  {
   "cell_type": "markdown",
   "id": "63253352",
   "metadata": {},
   "source": [
    "For ridge regression, how does the coefficient ˆθ change with increasing λ? how does ˆσ change with it?\n",
    "\n",
    "As we can see from the above attempt, as we increased λ, the values of θ decreased as λ penalizes higher values of for θ. The σ values increased as λ increased. "
   ]
  },
  {
   "cell_type": "code",
   "execution_count": 211,
   "id": "c4b07b6b",
   "metadata": {},
   "outputs": [],
   "source": [
    "df12 = csv.loc[csv['X1 transaction date'] < 2013.0]\n",
    "df13 = csv.loc[csv['X1 transaction date'] >= 2013.0]"
   ]
  },
  {
   "cell_type": "code",
   "execution_count": 212,
   "id": "726e3bd2",
   "metadata": {},
   "outputs": [
    {
     "name": "stdout",
     "output_type": "stream",
     "text": [
      "For model with 2012 data σ value =  37.934153591310164\n"
     ]
    }
   ],
   "source": [
    "y = df12['Y house price of unit area'].to_numpy()\n",
    "x = df12.drop(['X1 transaction date', 'Y house price of unit area', 'No'], axis=1).to_numpy()\n",
    "model = Ridge(alpha=0.0, fit_intercept=True)\n",
    "model.fit(x, y)\n",
    "print(\"For model with 2012 data σ value = \" , mean_squared_error(model.predict((x)), y))"
   ]
  },
  {
   "cell_type": "code",
   "execution_count": 213,
   "id": "bf09ac59",
   "metadata": {},
   "outputs": [
    {
     "name": "stdout",
     "output_type": "stream",
     "text": [
      "For model with 2013 data σ value =  92.50314353688712\n"
     ]
    }
   ],
   "source": [
    "y = df13['Y house price of unit area'].to_numpy()\n",
    "x = df13.drop(['X1 transaction date', 'Y house price of unit area', 'No'], axis=1).to_numpy()\n",
    "model = Ridge(alpha=0.0, fit_intercept=True)\n",
    "model.fit(x, y)\n",
    "print(\"For model with 2013 data σ value = \" , mean_squared_error(model.predict((x)), y))"
   ]
  },
  {
   "cell_type": "markdown",
   "id": "4299a6f0",
   "metadata": {},
   "source": [
    "Divide the dataset to the two parts related to the transactions of 2012 and 2013. Apply the models to each part separately. Do you see any difference between the two years? Is the individual models per year are more reliable than one model?\n",
    "\n",
    "Yes, we see the models trained on 2012 data works better that the model trained on 2013 data. "
   ]
  },
  {
   "cell_type": "code",
   "execution_count": 214,
   "id": "adc532da",
   "metadata": {},
   "outputs": [
    {
     "name": "stdout",
     "output_type": "stream",
     "text": [
      "Accuracy on unnormalized data =  0.7704918032786885\n",
      "θ values =  [[-1.07382720e-06  2.14965367e-11  4.98711172e-11  4.35381449e-11\n",
      "   3.92419556e-11  2.02094661e-11  4.38989962e-11  4.22894155e-11\n",
      "   3.71703897e-11  5.89898419e-12]]\n"
     ]
    }
   ],
   "source": [
    "data=np.zeros((683,10))\n",
    "label=np.zeros(683)\n",
    "count=0\n",
    "\n",
    "\n",
    "# The file for the dataset is found in the assignment\n",
    "with open('breast-cancer.txt', 'r') as f:\n",
    "    for x in f:\n",
    "        x1=x.strip()\n",
    "        y=x1.split(' ')\n",
    "        label[count]=(float(y[0])-2)/2\n",
    "        for k in range(10):\n",
    "            h=y[k+2].split(':')\n",
    "            data[count,k]=float(h[1])\n",
    "        count+=1\n",
    "\n",
    "clf = LogisticRegression().fit(data[500:], label[500:])\n",
    "print(\"Accuracy on unnormalized data = \", clf.score(data[500:], label[500:]))\n",
    "print(\"θ values = \", clf.coef_)"
   ]
  },
  {
   "cell_type": "code",
   "execution_count": 215,
   "id": "b8a704fd",
   "metadata": {},
   "outputs": [
    {
     "name": "stdout",
     "output_type": "stream",
     "text": [
      "Accuracy on normalized data =  0.96\n",
      "θ values =  [[ 0.10124302  0.51957796 -0.05453361  0.31650104  0.29195348  0.12337555\n",
      "   0.36326314  0.35259347  0.19394253  0.43613779]]\n"
     ]
    }
   ],
   "source": [
    "data=np.zeros((683,10))\n",
    "label=np.zeros(683)\n",
    "count=0\n",
    "\n",
    "\n",
    "# The file for the dataset is found in the assignment\n",
    "with open('breast-cancer.txt', 'r') as f:\n",
    "    for x in f:\n",
    "        x1=x.strip()\n",
    "        y=x1.split(' ')\n",
    "        label[count]=(float(y[0])-2)/2\n",
    "        for k in range(10):\n",
    "            h=y[k+2].split(':')\n",
    "            # Here we make the distinction between the first variable and the rest\n",
    "            # You should implement the two cases\n",
    "            if k==0:\n",
    "                data[count,k]=float(h[1])/1000000\n",
    "            else:\n",
    "                data[count,k]=float(h[1])\n",
    "        count+=1\n",
    "\n",
    "clf = LogisticRegression().fit(data[:500], label[:500])\n",
    "print(\"Accuracy on normalized data = \", clf.score(data[:500], label[:500]))\n",
    "print(\"θ values = \", clf.coef_)"
   ]
  },
  {
   "cell_type": "markdown",
   "id": "f7cf16ce",
   "metadata": {},
   "source": [
    "Does the second case (i.e. preprocessing the data) give you a different solution? Why do you think?\n",
    "\n",
    "The scales of the data have a direct correllation on the values for θ as θ is multiplied by x. If all xs are not in the same scale then the values of θ cannot be compared for importance since the θs are now on a different scale too. This also adversely affects regularization as the values of θ are penalized and this isn't helpful when θs are on different scales as different θs would be penalized differently based on their scale, with higher valued θs penalized more than lower valued ones. \n",
    "\n",
    "What can we learn from θ? is there any particular gene that has a bigger effect on cancer?\n",
    "\n",
    "We can learn the importance of the different genes for cancer when the data is normalized, we can see the gene 2 and 10 have the most significance when it comes to cancer. \n",
    "\n",
    "How well is the accuracy? Discuss what is the reason and what are the practical considerations for using the learned model.\n",
    "\n",
    "The accuracy when the data is normalized is quite high and thus this model can be predict cancer from genes with a high accuracy. The accuracy when the data is not normalized is quite low and thus this model is unable predict cancer from genes properly. The reason for the difference in accuracy is due to the fact unnormalized data adversely affect regularization of the values of θ would be different scales as discussed earlier. "
   ]
  }
 ],
 "metadata": {
  "kernelspec": {
   "display_name": "Python 3 (ipykernel)",
   "language": "python",
   "name": "python3"
  },
  "language_info": {
   "codemirror_mode": {
    "name": "ipython",
    "version": 3
   },
   "file_extension": ".py",
   "mimetype": "text/x-python",
   "name": "python",
   "nbconvert_exporter": "python",
   "pygments_lexer": "ipython3",
   "version": "3.9.18"
  }
 },
 "nbformat": 4,
 "nbformat_minor": 5
}
