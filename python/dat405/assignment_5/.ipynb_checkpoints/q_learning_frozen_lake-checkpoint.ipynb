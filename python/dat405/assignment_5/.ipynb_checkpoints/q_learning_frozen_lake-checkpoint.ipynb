{
 "cells": [
  {
   "cell_type": "markdown",
   "metadata": {
    "id": "-ZYIWUuEETWv"
   },
   "source": [
    "# Q-learning with FrozenLake"
   ]
  },
  {
   "cell_type": "markdown",
   "metadata": {
    "id": "FiK2QFfTETWy"
   },
   "source": [
    "Based on https://github.com/ioarun/openai-gym/blob/master/frozenlake/frozenlake-qlearning.py \n",
    "\n",
    "Environment: https://www.gymlibrary.dev/environments/toy_text/frozen_lake/"
   ]
  },
  {
   "cell_type": "code",
   "execution_count": 71,
   "metadata": {
    "id": "g1xepI8xETW0"
   },
   "outputs": [],
   "source": [
    "import random\n",
    "import numpy as np\n",
    "import gym\n",
    "import gym_toytext"
   ]
  },
  {
   "cell_type": "code",
   "execution_count": 72,
   "metadata": {
    "id": "EPsmtmq7ETW5"
   },
   "outputs": [],
   "source": [
    "env = gym.make(\"NChain-v0\")\n",
    "env.reset()\n",
    "\n",
    "num_episodes = 25000\n",
    "gamma = 0.95\n",
    "learning_rate = 0.1\n",
    "epsilon = 0.5\n",
    "\n",
    "Q = np.zeros([5, 2])"
   ]
  },
  {
   "cell_type": "code",
   "execution_count": null,
   "metadata": {
    "id": "kFmfTxX4ETW_"
   },
   "outputs": [],
   "source": [
    "for _ in range(num_episodes):\n",
    "\tstate = env.reset()\n",
    "\tdone = False\n",
    "\twhile done == False:\n",
    "\t\tif random.uniform(0, 1) < epsilon:\n",
    "\t\t\taction = env.action_space.sample()\n",
    "\t\telse:\n",
    "\t\t\taction = np.argmax(Q[state,:])\n",
    "\t\tnew_state, reward, done, info = env.step(action)\n",
    "\t\tupdate = reward + (gamma*np.max(Q[new_state,:])) - Q[state, action]\n",
    "\t\tQ[state,action] += learning_rate*update \n",
    "\t\tstate = new_state"
   ]
  },
  {
   "cell_type": "code",
   "execution_count": null,
   "metadata": {
    "id": "ATi77JSgETW_"
   },
   "outputs": [],
   "source": [
    "Q"
   ]
  }
 ],
 "metadata": {
  "colab": {
   "provenance": []
  },
  "kernelspec": {
   "display_name": "Python 3 (ipykernel)",
   "language": "python",
   "name": "python3"
  },
  "language_info": {
   "codemirror_mode": {
    "name": "ipython",
    "version": 3
   },
   "file_extension": ".py",
   "mimetype": "text/x-python",
   "name": "python",
   "nbconvert_exporter": "python",
   "pygments_lexer": "ipython3",
   "version": "3.9.13"
  }
 },
 "nbformat": 4,
 "nbformat_minor": 1
}
